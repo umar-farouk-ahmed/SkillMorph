{
  "nbformat": 4,
  "nbformat_minor": 0,
  "metadata": {
    "colab": {
      "provenance": [],
      "toc_visible": true,
      "collapsed_sections": [
        "W3UzaJvZv5e0",
        "8wLxF_8bwFCs",
        "j0EwLET1wOKE",
        "ve06S5vTwWX8",
        "xitfu7lfzSmb"
      ],
      "authorship_tag": "ABX9TyOvPBfZuEaKx6EpNIGOlskv",
      "include_colab_link": true
    },
    "kernelspec": {
      "name": "python3",
      "display_name": "Python 3"
    },
    "language_info": {
      "name": "python"
    }
  },
  "cells": [
    {
      "cell_type": "markdown",
      "metadata": {
        "id": "view-in-github",
        "colab_type": "text"
      },
      "source": [
        "<a href=\"https://colab.research.google.com/github/umar-farouk-ahmed/SkillMorph/blob/main/Class_02.ipynb\" target=\"_parent\"><img src=\"https://colab.research.google.com/assets/colab-badge.svg\" alt=\"Open In Colab\"/></a>"
      ]
    },
    {
      "cell_type": "markdown",
      "source": [
        "# **Introduction**"
      ],
      "metadata": {
        "id": "m0HLZZ1Su5Bk"
      }
    },
    {
      "cell_type": "markdown",
      "source": [
        "## **2.1 Variable**"
      ],
      "metadata": {
        "id": "W3UzaJvZv5e0"
      }
    },
    {
      "cell_type": "code",
      "source": [
        "name = \"umar\"\n",
        "age = 22\n",
        "color = \"black\"\n",
        "print(\"Name:\" ,name)\n",
        "print(\"Age:\" ,age)\n",
        "print(\"Color:\" ,color)"
      ],
      "metadata": {
        "colab": {
          "base_uri": "https://localhost:8080/"
        },
        "id": "a8CVwshjwvBN",
        "outputId": "f486d48d-a0cd-4c02-f08a-fe3cfeae6631"
      },
      "execution_count": null,
      "outputs": [
        {
          "output_type": "stream",
          "name": "stdout",
          "text": [
            "Name: umar\n",
            "Age: 22\n",
            "Color: black\n"
          ]
        }
      ]
    },
    {
      "cell_type": "markdown",
      "source": [
        "## **2.2 Data Types**"
      ],
      "metadata": {
        "id": "8wLxF_8bwFCs"
      }
    },
    {
      "cell_type": "code",
      "source": [
        "name = \"Umar\"\n",
        "num1 = 10\n",
        "num2 = 10.5\n",
        "flag = True\n",
        "result = None\n",
        "print(type(name))\n",
        "print(type(num1))\n",
        "print(type(num2))\n",
        "print(type(flag))\n",
        "print(type(result))"
      ],
      "metadata": {
        "id": "Qz09BoXxxMQs",
        "colab": {
          "base_uri": "https://localhost:8080/"
        },
        "outputId": "874c54a0-b358-4af7-ac2d-ba8172bbb8be"
      },
      "execution_count": null,
      "outputs": [
        {
          "output_type": "stream",
          "name": "stdout",
          "text": [
            "<class 'str'>\n",
            "<class 'int'>\n",
            "<class 'float'>\n",
            "<class 'bool'>\n",
            "<class 'NoneType'>\n"
          ]
        }
      ]
    },
    {
      "cell_type": "markdown",
      "source": [
        "## **2.3 Basic Operations**"
      ],
      "metadata": {
        "id": "j0EwLET1wOKE"
      }
    },
    {
      "cell_type": "code",
      "source": [
        "length = 7\n",
        "width = 5\n",
        "print(\"Area: \",length*width)\n",
        "print(\"Perimeter: \",2*(length+width))"
      ],
      "metadata": {
        "colab": {
          "base_uri": "https://localhost:8080/"
        },
        "id": "KfMIVKWFygKN",
        "outputId": "1e65e676-acfe-43a3-eaba-f93494f11f68"
      },
      "execution_count": null,
      "outputs": [
        {
          "output_type": "stream",
          "name": "stdout",
          "text": [
            "Area:  35\n",
            "Perimeter:  24\n"
          ]
        }
      ]
    },
    {
      "cell_type": "markdown",
      "source": [
        "## **2.4 Lists**"
      ],
      "metadata": {
        "id": "ve06S5vTwWX8"
      }
    },
    {
      "cell_type": "code",
      "source": [
        "foods = [\"Mango\",\"Apple\",\"Banana\",\"Orange\",\"Grape\"]\n",
        "print(foods[0])\n",
        "print(foods[-1])"
      ],
      "metadata": {
        "id": "Wr30aNRTwahs",
        "colab": {
          "base_uri": "https://localhost:8080/"
        },
        "outputId": "ae4942c6-61db-4ad3-9960-3add895d1339"
      },
      "execution_count": null,
      "outputs": [
        {
          "output_type": "stream",
          "name": "stdout",
          "text": [
            "Mango\n",
            "Grape\n"
          ]
        }
      ]
    },
    {
      "cell_type": "markdown",
      "source": [
        "## **2.5 List Methods**"
      ],
      "metadata": {
        "id": "xitfu7lfzSmb"
      }
    },
    {
      "cell_type": "code",
      "source": [
        "nums = [1,5,3,4,2]\n",
        "nums.append(6)\n",
        "print(nums)\n",
        "nums.remove(3)\n",
        "print(nums)\n",
        "nums.sort()\n",
        "print(nums)"
      ],
      "metadata": {
        "colab": {
          "base_uri": "https://localhost:8080/"
        },
        "id": "ZwpoRv0fzY67",
        "outputId": "6c034a7b-f2cf-4357-cd99-ac37fa0fd797"
      },
      "execution_count": null,
      "outputs": [
        {
          "output_type": "stream",
          "name": "stdout",
          "text": [
            "[1, 5, 3, 4, 2, 6]\n",
            "[1, 5, 4, 2, 6]\n",
            "[1, 2, 4, 5, 6]\n"
          ]
        }
      ]
    },
    {
      "cell_type": "markdown",
      "source": [
        "## **2.6 Dictionaries**"
      ],
      "metadata": {
        "id": "fM-nUXirBiGL"
      }
    },
    {
      "cell_type": "code",
      "source": [
        "info = {\n",
        "    \"Name: \": \"Umar Farouk Ahmed\",\n",
        "    \"Age: \" : 22,\n",
        "    \"Gender: \" : \"Male\",\n",
        "    \"Country: \" : \"Bangladesh\",\n",
        "    \"University: \":\"United International University\",\n",
        "    \"Courses: \":[\"C\",\"C++\",\"Java\",\"Python\"]\n",
        "}\n",
        "print(info[\"Name: \"])\n",
        "print(info[\"University: \"])\n",
        "print(info[\"Courses: \"][1])\n",
        "\n",
        "if info[\"Age: \"] > 18:\n",
        "  print(\"You are eligible to vote\")\n",
        "else:\n",
        "  print(\"You are not eligible to vote\")"
      ],
      "metadata": {
        "colab": {
          "base_uri": "https://localhost:8080/"
        },
        "id": "5WGBNJf6Bnpc",
        "outputId": "55c7d36c-69e3-455b-d1b1-192733ffd1fa"
      },
      "execution_count": null,
      "outputs": [
        {
          "output_type": "stream",
          "name": "stdout",
          "text": [
            "Umar Farouk Ahmed\n",
            "United International University\n",
            "C++\n",
            "You are eligible to vote\n"
          ]
        }
      ]
    },
    {
      "cell_type": "code",
      "source": [],
      "metadata": {
        "id": "uCiqXqSWCZFE"
      },
      "execution_count": null,
      "outputs": []
    },
    {
      "cell_type": "markdown",
      "source": [
        "## **2.7 Tuples**"
      ],
      "metadata": {
        "id": "6wyRbcl-DVmM"
      }
    },
    {
      "cell_type": "code",
      "source": [],
      "metadata": {
        "id": "dKBz0nqRDZKb"
      },
      "execution_count": null,
      "outputs": []
    },
    {
      "cell_type": "markdown",
      "source": [
        "## **2.8 Sets**"
      ],
      "metadata": {
        "id": "ppXVvT6rEyhL"
      }
    },
    {
      "cell_type": "code",
      "source": [
        "first = {\"Red\",\"Green\",\"Blue\"}\n",
        "second = {\"Yellow\",\"Green\",\"Orange\",\"Red\"}\n",
        "all_color = first | second\n",
        "common = first & second\n",
        "print(all_color)\n",
        "print(common)\n"
      ],
      "metadata": {
        "id": "z3tfZ0G4E1_7",
        "colab": {
          "base_uri": "https://localhost:8080/"
        },
        "outputId": "dfb2dd91-907d-4130-a6d8-7cd140596949"
      },
      "execution_count": null,
      "outputs": [
        {
          "output_type": "stream",
          "name": "stdout",
          "text": [
            "{'Green', 'Yellow', 'Red', 'Orange', 'Blue'}\n",
            "{'Green', 'Red'}\n"
          ]
        }
      ]
    },
    {
      "cell_type": "markdown",
      "source": [
        "## **2.9 If-Else**"
      ],
      "metadata": {
        "id": "L8ZcmN2CGcCb"
      }
    },
    {
      "cell_type": "code",
      "source": [
        "num = int(input(\"Enter an integer number: \"))\n",
        "if num > 0:\n",
        "  print(\"Positive\")\n",
        "elif num < 0:\n",
        "  print(\"Negative\")\n",
        "else:\n",
        "  print(\"Zero\")"
      ],
      "metadata": {
        "colab": {
          "base_uri": "https://localhost:8080/"
        },
        "id": "EWEf-y0oGeV7",
        "outputId": "a5d10763-c511-432f-9fa4-f22509ff50ad"
      },
      "execution_count": null,
      "outputs": [
        {
          "output_type": "stream",
          "name": "stdout",
          "text": [
            "Enter an integer number: -88\n",
            "Negative\n"
          ]
        }
      ]
    },
    {
      "cell_type": "markdown",
      "source": [
        "## **2.10 Nested If Else**"
      ],
      "metadata": {
        "id": "cEPU2Oo5HYbi"
      }
    },
    {
      "cell_type": "code",
      "source": [
        "status = input(\"Enter your status: \")\n",
        "age = int(input(\"Enter your age: \"))\n",
        "if status == \"student\":\n",
        "  if age < 25:\n",
        "    print(\"Eligible for discount\")\n",
        "  else:\n",
        "    print(\"Not Eligible for discount\")\n",
        "elif status == \"senior\":\n",
        "  if age > 60:\n",
        "    print(\"Eligible for discount\")\n",
        "  else:\n",
        "    print(\"Not Eligible for discount\")"
      ],
      "metadata": {
        "colab": {
          "base_uri": "https://localhost:8080/"
        },
        "id": "I1CbeubQHbDj",
        "outputId": "58cb7a2d-f619-48f7-a64f-886e2912ff93"
      },
      "execution_count": null,
      "outputs": [
        {
          "output_type": "stream",
          "name": "stdout",
          "text": [
            "Enter your status: senior\n",
            "Enter your age: 65\n",
            "Eligible for discount\n"
          ]
        }
      ]
    },
    {
      "cell_type": "markdown",
      "source": [
        "## **2.11 Loops**"
      ],
      "metadata": {
        "id": "qyk6QnCgIdRK"
      }
    },
    {
      "cell_type": "code",
      "source": [
        "for i in range(1,11):\n",
        "  if(i % 2 == 0):\n",
        "    print(i,end=\" \")"
      ],
      "metadata": {
        "colab": {
          "base_uri": "https://localhost:8080/"
        },
        "id": "j_EFuxLdIe2r",
        "outputId": "7ec25c1b-b73c-4656-a2c3-b5813b4c4403"
      },
      "execution_count": null,
      "outputs": [
        {
          "output_type": "stream",
          "name": "stdout",
          "text": [
            "2 4 6 8 10 "
          ]
        }
      ]
    },
    {
      "cell_type": "markdown",
      "source": [
        "## **2.12Nested Loop Creating Pyramid 🔼🔼🔼**"
      ],
      "metadata": {
        "id": "pnHyj7QjMZEy"
      }
    },
    {
      "cell_type": "markdown",
      "source": [],
      "metadata": {
        "id": "57n-KiCrI9JL"
      }
    },
    {
      "cell_type": "code",
      "source": [
        "# Creating a pyramid\n",
        "for i in range(0,5):\n",
        "  for k in range(1,(5-i)):\n",
        "    print(\" \",end=\" \")\n",
        "  for j in range(0,((2*i)+1)):\n",
        "    print(\"*\",end=\" \")\n",
        "  print(\"\\n\")"
      ],
      "metadata": {
        "colab": {
          "base_uri": "https://localhost:8080/"
        },
        "id": "sx-rWsTyI_OK",
        "outputId": "2505a903-cf7d-4592-b89b-0bdf57e7d1e2"
      },
      "execution_count": null,
      "outputs": [
        {
          "output_type": "stream",
          "name": "stdout",
          "text": [
            "        * \n",
            "\n",
            "      * * * \n",
            "\n",
            "    * * * * * \n",
            "\n",
            "  * * * * * * * \n",
            "\n",
            "* * * * * * * * * \n",
            "\n"
          ]
        }
      ]
    },
    {
      "cell_type": "code",
      "source": [],
      "metadata": {
        "id": "2VcEWrI3KDGz"
      },
      "execution_count": null,
      "outputs": []
    },
    {
      "cell_type": "markdown",
      "source": [
        "## **2.13 Functions Basics**"
      ],
      "metadata": {
        "id": "W9JGyu80MydS"
      }
    },
    {
      "cell_type": "code",
      "source": [
        "# Function that converts temperature from Celsius to Fahrenheit using the formula\n",
        "\n",
        "def convert(x):\n",
        "  return x*1.8+32\n",
        "temperature = float(input(\"Enter a celcius temperature: \"))\n",
        "result = convert(temperature)\n",
        "print(\"Farenheit: \",result )"
      ],
      "metadata": {
        "colab": {
          "base_uri": "https://localhost:8080/"
        },
        "id": "E6d_ca0KM31i",
        "outputId": "5dff6066-2288-4721-b9d9-2bd431263540"
      },
      "execution_count": null,
      "outputs": [
        {
          "output_type": "stream",
          "name": "stdout",
          "text": [
            "Enter a celcius temperature: 30\n",
            "Farenheit:  86.0\n"
          ]
        }
      ]
    },
    {
      "cell_type": "markdown",
      "source": [
        "## **2.14 Functions: Advanced Features**"
      ],
      "metadata": {
        "id": "2Z4pxB2fOFij"
      }
    },
    {
      "cell_type": "code",
      "source": [
        "def area(length=5,width=10):\n",
        "  return length*width\n",
        "\n",
        "result = area()\n",
        "print(result)"
      ],
      "metadata": {
        "colab": {
          "base_uri": "https://localhost:8080/"
        },
        "id": "QnCQlR6PNlyb",
        "outputId": "9ff5934d-9eb1-4f9e-98dd-fe5004eb0bbd"
      },
      "execution_count": null,
      "outputs": [
        {
          "output_type": "stream",
          "name": "stdout",
          "text": [
            "50\n"
          ]
        }
      ]
    },
    {
      "cell_type": "code",
      "source": [],
      "metadata": {
        "id": "ArY5qJvZOWjy"
      },
      "execution_count": null,
      "outputs": []
    }
  ]
}